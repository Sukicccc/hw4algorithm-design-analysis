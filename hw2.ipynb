{
 "cells": [
  {
   "cell_type": "markdown",
   "metadata": {},
   "source": [
    "## algorithm design and anlysis-2025 spring  homework 2\n",
    "**Deadline**：2025.5.14\n",
    "\n",
    "**name**:\n",
    "\n",
    "\n",
    "note：\n",
    "---\n",
    "1. 带有\\*的题目，申请免上课的同学，必须完成，其他同学选作；\n",
    "2. 请独立完成，如求助了他人或者大模型，请著明，并且不可省略算法分析部分；\n",
    "4. 如若作答有雷同，全部取消成绩；\n",
    "3. 需要书面作答的题目，可以通过引用图片的形式添加，但是注意上传项目时包含所引用的图片的源文件；\n",
    "4. $log_n$ 默认表示$log_2{n}$;"
   ]
  },
  {
   "cell_type": "markdown",
   "metadata": {},
   "source": [
    "## 问题 1  \n",
    "\n",
    "> 给定一个已排序的链表的头 `head` ， *删除所有重复的元素，使每个元素只出现一次* 。返回 *已排序的链表* 。链表的类如下所示：\n",
    "\n",
    "```python\n",
    "class NodeList:\n",
    "    def __init__(self, val=None, right=None):\n",
    "        self.val   = val\n",
    "        self.right = right\n",
    "```\n",
    "\n",
    "输入是一个数组，你首先需要将数组转化为链表，然后删除链表中的重复元素，再遍历链表元素，以一个数组的形式返回。请设计一个算法解决上述任务，分析算法设计思路，计算时间复杂度, 并基于python编程实现。\n",
    "\n",
    "e.g.  输入：head=[1, 1, 2, 3, 3]   输出：[1, 2, 3]\n",
    "\n",
    "![image-20240502110020439](./fig/hw2q1.png)\n",
    "\n"
   ]
  },
  {
   "cell_type": "markdown",
   "metadata": {},
   "source": [
    "idea：\n",
    "1.数组转链表：\n",
    "遍历数组，逐个创建 NodeList 结点，连接起来。\n",
    "2.删除重复元素：\n",
    "使用一个指针 current 遍历链表。\n",
    "如果 current.val == current.right.val，则跳过 current.right。\n",
    "否则，向后移动 current。\n",
    "3.链表转数组：\n",
    "遍历链表，把每个节点的 val 加入结果数组。"
   ]
  },
  {
   "cell_type": "code",
   "metadata": {
    "ExecuteTime": {
     "end_time": "2025-05-12T07:32:42.702514Z",
     "start_time": "2025-05-12T07:32:42.675917Z"
    }
   },
   "source": [
    "# add your idea here\n",
    "class NodeList:\n",
    "    def __init__(self, val=None, right=None):\n",
    "        self.val = val\n",
    "        self.right = right\n",
    "\n",
    "def array_to_linked_list(arr):\n",
    "    if not arr:\n",
    "        return None\n",
    "    head = NodeList(arr[0])\n",
    "    current = head\n",
    "    for val in arr[1:]:\n",
    "        current.right = NodeList(val)\n",
    "        current = current.right\n",
    "    return head\n",
    "\n",
    "def remove_duplicates(head):\n",
    "    current = head\n",
    "    while current and current.right:\n",
    "        if current.val == current.right.val:\n",
    "            current.right = current.right.right  # 跳过重复节点\n",
    "        else:\n",
    "            current = current.right\n",
    "    return head\n",
    "\n",
    "def linked_list_to_array(head):\n",
    "    result = []\n",
    "    current = head\n",
    "    while current:\n",
    "        result.append(current.val)\n",
    "        current = current.right\n",
    "    return result\n",
    "\n",
    "def process_array(arr):\n",
    "    head = array_to_linked_list(arr)\n",
    "    head = remove_duplicates(head)\n",
    "    return linked_list_to_array(head)\n",
    "\n",
    "# 示例\n",
    "input_arr = [1, 1, 2, 3, 3]\n",
    "output_arr = process_array(input_arr)\n",
    "print(output_arr)  # 输出：[1, 2, 3]\n",
    "\n",
    "# your algorithm time complexity is:O(n)"
   ],
   "outputs": [
    {
     "name": "stdout",
     "output_type": "stream",
     "text": [
      "[1, 2, 3]\n"
     ]
    }
   ],
   "execution_count": 1
  },
  {
   "cell_type": "markdown",
   "metadata": {},
   "source": [
    "## 问题 2  \n",
    "\n",
    "> 下面是一个经典的算法问题：\n",
    ">\n",
    "> - 给定包含n个整数的一个整数数组 `nums` 和一个整数目标值 `target`，请你在该数组中找出 **和为目标值** *`target`* 的那 **两个** 整数，并返回它们的**数组下标**。假设每种输入只会对应一个答案。但是，数组中同一个元素在答案里不能重复出现。你可以按任意顺序返回答案。\n",
    ">\n",
    "> 由于要多次查找数组中元素的位置，为了提高查询效率可以使用哈希表来存储数组中的数据，在哈希表中查询一个元素的复杂度为O(1)。 已知python中的字典是使用哈希表实现的，即使用`dict[key]`查询对应的value时间复杂度为O(1), python提供了查询字典是否包含某个key的功能：`key in dict`，时间复杂度也是O(1)\n",
    "\n",
    "请根据上面信息，设计一个时间复杂度为O(n) 的算法，解决上述算法问题\n",
    "\n",
    "e.g.   \n",
    "\n",
    "输入：nums=[2,7,11,15], target=9， 输出：[0，1]\n",
    "\n",
    "输入：nums=[3,2,4], target=6, 输出：[1,2]\n",
    "\n",
    "输入：nums=[3,3], target=6,  输出：[0,1]\n"
   ]
  },
  {
   "cell_type": "code",
   "metadata": {
    "ExecuteTime": {
     "end_time": "2025-05-12T07:32:47.408902Z",
     "start_time": "2025-05-12T07:32:47.397836Z"
    }
   },
   "source": [
    "# add your idea here\n",
    "def twoSum(nums, target):\n",
    "    # 创建一个哈希表\n",
    "    hash_map = {}\n",
    "    \n",
    "    # 遍历数组\n",
    "    for i, num in enumerate(nums):\n",
    "        # 计算目标值和当前元素的差值\n",
    "        complement = target - num\n",
    "        \n",
    "        # 如果差值在哈希表中，说明找到了答案\n",
    "        if complement in hash_map:\n",
    "            return [hash_map[complement], i]\n",
    "        \n",
    "        # 如果差值不在哈希表中，将当前元素和索引存入哈希表\n",
    "        hash_map[num] = i\n",
    "    \n",
    "    # 如果没有找到任何匹配，返回空列表（题目假设会有一个解，因此此处实际不会被执行）\n",
    "    return []\n",
    "\n",
    "# 测试代码\n",
    "print(twoSum([2, 7, 11, 15], 9))  # 输出: [0, 1]\n",
    "print(twoSum([3, 2, 4], 6))        # 输出: [1, 2]\n",
    "print(twoSum([3, 3], 6))           # 输出: [0, 1]\n",
    "\n",
    "# your algorithm time complexity is: O(n)"
   ],
   "outputs": [
    {
     "name": "stdout",
     "output_type": "stream",
     "text": [
      "[0, 1]\n",
      "[1, 2]\n",
      "[0, 1]\n"
     ]
    }
   ],
   "execution_count": 2
  },
  {
   "cell_type": "markdown",
   "metadata": {},
   "source": [
    "## 问题 3:   \n",
    "\n",
    "> 栈是一种常用的数据结构，编译器中通常使用栈来实现表达式求值。\n",
    ">\n",
    "> 以表达式 $3+5 \\times 8-6$​ 为例。编译器使用两个栈来完成运算，即一个栈保持操作数，另一个栈保存运算符。\n",
    ">\n",
    "> 1. 从左向右遍历表达式，遇到数字就压入操作数栈；\n",
    ">\n",
    "> 2. 遇到运算符，就与运算符栈的栈顶元素进行比较。如果比运算符栈顶元素的优先级高，就将当前运算符压入栈；如果比运算符栈顶元素的优先级低或者相同，从运算符栈中取栈顶运算符，从操作数栈的栈顶取 2 个操作数，然后进行计算，再把计算完的结果压入操作数栈，继续比较。\n",
    ">\n",
    "> 下图是 $3+5 \\times 8-6$  这个表达式的计算过程：\n",
    "\n",
    "![figure](./fig/hw2q3.png)\n",
    "\n",
    "根据上述原理，请设计一个算法完成表达式的运算，当输入为表达式字符串，返回对应的计算结果。分析算法设计思路，计算时间复杂度，并基于python编程实现\n",
    "\n",
    "**note：**\n",
    "\n",
    "1. 假设输入的表达式只会出现加（“+”），减 “-”， 乘“*”，除 “/” 四个运算符, 表达式中只会出现正整数\n",
    "2. python中` str.isdigit()`函数可以判断字符串str是否为数字，\n",
    "\n",
    "\n",
    "\n",
    "e.g. :\n",
    "---\n",
    "\n",
    "1. 输入：“$3+5 * 8 -6$”   输出：37\n",
    "\n",
    "2. 输入：“$34+13*9 + 44-12/3$”  输出：191"
   ]
  },
  {
   "cell_type": "markdown",
   "metadata": {},
   "source": [
    "idea：\n",
    "1.准备两个栈：\n",
    "一个 num_stack 用来存放数字。\n",
    "一个 op_stack 用来存放运算符。\n",
    "2.遍历字符串：\n",
    "如果是数字，读完整个数字（因为可能是多位数），推入 num_stack。\n",
    "如果是运算符：\n",
    "如果运算符优先级高于栈顶运算符，直接入栈。\n",
    "否则，反复弹出栈顶运算符并计算，直到可以把当前运算符入栈。\n",
    "3.处理剩余运算：\n",
    "表达式遍历完成后，把 op_stack 中剩下的操作符全部执行。"
   ]
  },
  {
   "cell_type": "code",
   "metadata": {
    "ExecuteTime": {
     "end_time": "2025-05-12T07:33:28.687782Z",
     "start_time": "2025-05-12T07:33:28.670549Z"
    }
   },
   "source": [
    "# add your idea here\n",
    "def calculate(expression):\n",
    "    def precedence(op):\n",
    "        if op in ('*', '/'):\n",
    "            return 2\n",
    "        if op in ('+', '-'):\n",
    "            return 1\n",
    "        return 0\n",
    "\n",
    "    def apply_op(a, b, op):\n",
    "        if op == '+':\n",
    "            return a + b\n",
    "        if op == '-':\n",
    "            return a - b\n",
    "        if op == '*':\n",
    "            return a * b\n",
    "        if op == '/':\n",
    "            return a // b  \n",
    "\n",
    "    num_stack = []\n",
    "    op_stack = []\n",
    "    i = 0\n",
    "    n = len(expression)\n",
    "\n",
    "    while i < n:\n",
    "        if expression[i] == ' ':\n",
    "            i += 1\n",
    "            continue\n",
    "        if expression[i].isdigit():\n",
    "            num = 0\n",
    "            while i < n and expression[i].isdigit():\n",
    "                num = num * 10 + int(expression[i])\n",
    "                i += 1\n",
    "            num_stack.append(num)\n",
    "        else:\n",
    "            while op_stack and precedence(op_stack[-1]) >= precedence(expression[i]):\n",
    "                op = op_stack.pop()\n",
    "                b = num_stack.pop()\n",
    "                a = num_stack.pop()\n",
    "                num_stack.append(apply_op(a, b, op))\n",
    "            op_stack.append(expression[i])\n",
    "            i += 1\n",
    "\n",
    "    while op_stack:\n",
    "        op = op_stack.pop()\n",
    "        b = num_stack.pop()\n",
    "        a = num_stack.pop()\n",
    "        num_stack.append(apply_op(a, b, op))\n",
    "\n",
    "    return num_stack[0]\n",
    "\n",
    "# 示例\n",
    "print(calculate(\"3+5*8-6\"))         # 输出 37\n",
    "print(calculate(\"34+13*9+44-12/3\"))  # 输出 191\n",
    "\n",
    "# your algorithm time complexity is:  O(n)"
   ],
   "outputs": [
    {
     "name": "stdout",
     "output_type": "stream",
     "text": [
      "37\n",
      "191\n"
     ]
    }
   ],
   "execution_count": 3
  },
  {
   "cell_type": "markdown",
   "metadata": {},
   "source": [
    "## 问题 4:  \n",
    "\n",
    "> 星球碰撞问题：现有n个星球，在同一条直线上运行，如数组A所示，元素的绝对值表示星球的质量，负数表示星球自右向左运动，正数表示星球自左向右运动，当两个星球相撞的时候，质量小的会消失，大的保持不变，**质量相同的两个星球碰撞后自右向左运动的星球消失，自左向右的星球保持不变**，假设所有星球的速度大小相同。\n",
    ">\n",
    "> $ A=[23,-8, 9, -3, -7, 9, -23, 22] $\n",
    "\n",
    "请设计一个算法模拟星球的运行情况，输出最终的星球存续情况（输出一个数组），分析算法设计思路，计算时间复杂度，并基于python编程实现。\n",
    "\n",
    "e.g.\n",
    "---\n",
    "1.  输入： A=[-3,-6,2,8, 5,-8,9,-2,1]， 输出：[-3, -6, 2, 8, 9, 1]\n",
    "\n",
    "2. 输入：A=[23,-8, 9, -3, -7, 9, -23, 22], 输出：[23, 22]\n",
    "\n"
   ]
  },
  {
   "metadata": {},
   "cell_type": "markdown",
   "source": [
    "来源于Chat GPT\n",
    "### 算法设计\n",
    "用一个栈来保存当前存活的星球。\n",
    "遍历数组：\n",
    "如果当前星球是正数，直接入栈。\n",
    "如果是负数，和栈顶的正数比较：\n",
    "栈顶正数质量小于当前负数，栈顶出栈，继续比较。\n",
    "栈顶正数质量等于当前负数，栈顶出栈，当前负数也不入栈（都消失）。\n",
    "栈顶正数质量大于当前负数，当前负数不入栈（被消灭）。\n",
    "如果栈为空或栈顶为负数，当前负数直接入栈。\n",
    "最终栈内元素即为存活星球。"
   ]
  },
  {
   "metadata": {
    "ExecuteTime": {
     "end_time": "2025-04-26T05:42:48.840323Z",
     "start_time": "2025-04-26T05:42:48.830200Z"
    }
   },
   "cell_type": "code",
   "source": [
    "def planet_collision(A):\n",
    "    \"\"\"\n",
    "    模拟星球碰撞 (根据题目描述更新规则)\n",
    "    :param A: 星球列表，正数向右，负数向左，绝对值为质量\n",
    "    :return: 最终存活的星球列表\n",
    "    \"\"\"\n",
    "    stack = []\n",
    "    for planet in A:\n",
    "        # 当前星球是否存活的标志\n",
    "        is_current_planet_alive = True\n",
    "        # 只有当 当前星球向左(<0) 且 栈不为空 且 栈顶星球向右(>0) 时才可能碰撞\n",
    "        while is_current_planet_alive and planet < 0 and stack and stack[-1] > 0:\n",
    "            # 比较质量（绝对值）\n",
    "            if abs(stack[-1]) < abs(planet):\n",
    "                # 栈顶星球(向右)质量小，消失\n",
    "                stack.pop()\n",
    "                # 当前星球(向左)继续存活，需要和新的栈顶比较\n",
    "                continue\n",
    "            elif abs(stack[-1]) == abs(planet):\n",
    "                # 质量相同，栈顶(向右)不变，当前星球(向左)消失\n",
    "                is_current_planet_alive = False\n",
    "                break # 结束当前星球(向左)的处理\n",
    "            else: # abs(stack[-1]) > abs(planet)\n",
    "                # 栈顶星球(向右)质量大，不变，当前星球(向左)消失\n",
    "                is_current_planet_alive = False\n",
    "                break # 结束当前星球(向左)的处理\n",
    "\n",
    "        # 如果当前星球最终存活下来，则压入栈\n",
    "        if is_current_planet_alive:\n",
    "            stack.append(planet)\n",
    "\n",
    "    return stack\n",
    "\n",
    "# 示例测试\n",
    "input1 = [-3, -6, 2, 8, 5, -8, 9, -2, 1]\n",
    "output1 = planet_collision(input1)\n",
    "print(f\"输入: {input1}, 输出: {output1}\") # 预期输出: [-3, -6, 2, 8, 9, 1]\n",
    "\n",
    "input2 = [23, -8, 9, -3, -7, 9, -23, 22]\n",
    "output2 = planet_collision(input2)\n",
    "print(f\"输入: {input2}, 输出: {output2}\") # 预期输出: [23, 22]\n",
    "\n",
    "#算法复杂度为：O(n)\n",
    "\n"
   ],
   "outputs": [
    {
     "name": "stdout",
     "output_type": "stream",
     "text": [
      "输入: [-3, -6, 2, 8, 5, -8, 9, -2, 1], 输出: [-3, -6, 2, 8, 9, 1]\n",
      "输入: [23, -8, 9, -3, -7, 9, -23, 22], 输出: [23, 22]\n"
     ]
    }
   ],
   "execution_count": 13
  },
  {
   "metadata": {},
   "cell_type": "markdown",
   "source": ""
  },
  {
   "cell_type": "markdown",
   "metadata": {},
   "source": [
    "## 问题 5 \n",
    "\n",
    "> 给定一个无序数组nums=[9,-3,-10,0,9,7,33]，请建立一个二叉搜索树存储数组中的所有元素，之后删除二叉树中的元素“0”，再使用中序遍历输出二叉搜索树中的所有元素。\n",
    "\n",
    "使用python编程完成上述任务，并计算时间复杂度\n"
   ]
  },
  {
   "cell_type": "code",
   "metadata": {},
   "source": [
    "# add your idea here\n",
    "class TreeNode:\n",
    "    def __init__(self, val):\n",
    "        self.val = val\n",
    "        self.left = None\n",
    "        self.right = None\n",
    "\n",
    "def insert(root, val):\n",
    "    if not root:\n",
    "        return TreeNode(val)\n",
    "    if val < root.val:\n",
    "        root.left = insert(root.left, val)\n",
    "    else:\n",
    "        root.right = insert(root.right, val)\n",
    "    return root\n",
    "\n",
    "def find_min(root):\n",
    "    while root.left:\n",
    "        root = root.left\n",
    "    return root\n",
    "\n",
    "def delete(root, val):\n",
    "    if not root:\n",
    "        return None\n",
    "    if val < root.val:\n",
    "        root.left = delete(root.left, val)\n",
    "    elif val > root.val:\n",
    "        root.right = delete(root.right, val)\n",
    "    else:\n",
    "        # 找到要删除的节点\n",
    "        if not root.left:\n",
    "            return root.right\n",
    "        if not root.right:\n",
    "            return root.left\n",
    "        # 有两个子节点的情况\n",
    "        min_node = find_min(root.right)\n",
    "        root.val = min_node.val\n",
    "        root.right = delete(root.right, min_node.val)\n",
    "    return root\n",
    "\n",
    "def inorder_traversal(root):\n",
    "    if not root:\n",
    "        return []\n",
    "    return inorder_traversal(root.left) + [root.val] + inorder_traversal(root.right)\n",
    "\n",
    "# 主程序\n",
    "nums = [9, -3, -10, 0, 9, 7, 33]\n",
    "\n",
    "root = None\n",
    "for num in nums:\n",
    "    root = insert(root, num)\n",
    "\n",
    "# 删除元素0\n",
    "root = delete(root, 0)\n",
    "\n",
    "# 中序遍历输出\n",
    "result = inorder_traversal(root)\n",
    "print(result)\n",
    "\n",
    "# your algorithm time complexity is:整体时间复杂度大约是 O(n log n)，最坏情况下是 O(n²)"
   ],
   "outputs": [],
   "execution_count": null
  },
  {
   "cell_type": "markdown",
   "metadata": {},
   "source": [
    "## 问题 6  \n",
    "\n",
    "> 给定一个包含大写字母和小写字母的字符串 s ，返回 字符串包含的 **最长的回文子串的长度** 。请注意 区分大小写 。比如 \"Aa\" 不能当做一个回文字符串。\n",
    ">\n",
    "\n",
    "请设计一个算法解决上述问题，只需要输出最长回文子串的长度，分析算法设计思路，计算时间复杂度，并基于python编程实现\n",
    "\n",
    "e.g. 输入： s=\"adccaccd\"，  输出：7。 最长回文子串为：\"dccaccd\", 长度为7\n"
   ]
  },
  {
   "cell_type": "markdown",
   "metadata": {},
   "source": [
    "idea：\n",
    "思路：\n",
    "回文串是对称的，可以从每个字符开始向左右扩展。\n",
    "每个位置可以作为：单个字符为中心（奇数长度回文），两个字符中间为中心（偶数长度回文）\n",
    "扩展时不断比较左右字符是否相等。"
   ]
  },
  {
   "cell_type": "code",
   "metadata": {},
   "source": [
    "# add your idea here\n",
    "def longest_palindrome_length(s):\n",
    "    def expand_around_center(left, right):\n",
    "        while left >= 0 and right < len(s) and s[left] == s[right]:\n",
    "            left -= 1\n",
    "            right += 1\n",
    "        return right - left - 1  # 最后多走了一步\n",
    "\n",
    "    max_len = 0\n",
    "    for i in range(len(s)):\n",
    "        len1 = expand_around_center(i, i)       # 以单个字符为中心（奇数长度）\n",
    "        len2 = expand_around_center(i, i + 1)   # 以两个字符为中心（偶数长度）\n",
    "        max_len = max(max_len, len1, len2)\n",
    "    \n",
    "    return max_len\n",
    "\n",
    "# 示例\n",
    "s = \"adccaccd\"\n",
    "print(longest_palindrome_length(s))  # 输出 7\n",
    "\n",
    "# your algorithm time complexity is:O(n²)\n"
   ],
   "outputs": [],
   "execution_count": null
  },
  {
   "cell_type": "markdown",
   "metadata": {},
   "source": [
    "## 问题 7 \n",
    "\n",
    "> 沿一条长河流分散着n座房子。你可以把这条河想象成一条轴，房子是由它们在这条轴上的坐标按顺序排列的。你的公司想在河边的特定地点设置手机基站，这样每户人家都在距离基站4公里的范围内。输入可以看作为一个升序数组，数组元素的取值为大于等于0的正整数，你需要输出最小基站的数目，基站的位置。\n",
    "\n",
    "1. 给出一个时间复杂度为$O(n$) 的算法，使所使用的基站数量最小化，分析算法设计思路，使用python编程实现\n",
    "2. 证明1.中算法产生了最优解决方案。\n",
    "\n",
    "e.g. \n",
    "\n",
    "输入： [1, 5, 12, 33, 34,35]  输出：基站数目为3， 基站位置为[1，12，33]\n",
    "\n"
   ]
  },
  {
   "cell_type": "markdown",
   "metadata": {},
   "source": [
    "idea：\n",
    "### 核心思路：\n",
    "贪心策略：每次放置基站时，尽可能“照顾”最多的房子。\n",
    "### 具体做法：\n",
    "从左往右扫描房子坐标。\n",
    "每次以当前第一个未被覆盖的房子为基准，放置一个基站在它+4公里的位置（这样它可以覆盖当前房子及往右最多4公里的房子）。\n",
    "然后跳过所有已被这个基站覆盖的房子（也就是坐标 ≤ 当前基站位置 + 4）。\n",
    "重复直到所有房子都被覆盖。"
   ]
  },
  {
   "cell_type": "code",
   "metadata": {
    "ExecuteTime": {
     "end_time": "2025-05-12T07:34:44.244264Z",
     "start_time": "2025-05-12T07:34:44.230900Z"
    }
   },
   "source": [
    "# add your idea here\n",
    "#1.\n",
    "def place_stations(houses):\n",
    "    n = len(houses)\n",
    "    stations = []\n",
    "    i = 0\n",
    "\n",
    "    while i < n:\n",
    "        # 当前未被覆盖的房子\n",
    "        loc = houses[i]\n",
    "        # 放置一个基站在 loc + 4\n",
    "        station = loc\n",
    "        stations.append(station)\n",
    "\n",
    "        # 跳过所有被这个基站覆盖的房子\n",
    "        i += 1\n",
    "        while i < n and houses[i] <= station + 4:\n",
    "            i += 1\n",
    "\n",
    "    return len(stations), stations\n",
    "\n",
    "# 测试\n",
    "houses = [1, 5, 12, 33, 34, 35]\n",
    "num_stations, station_positions = place_stations(houses)\n",
    "print(f\"基站数目为 {num_stations}，基站位置为 {station_positions}\")\n",
    "\n",
    "# your algorithm time complexity is: O(n)"
   ],
   "outputs": [
    {
     "name": "stdout",
     "output_type": "stream",
     "text": [
      "基站数目为 3，基站位置为 [1, 12, 33]\n"
     ]
    }
   ],
   "execution_count": 4
  },
  {
   "cell_type": "markdown",
   "metadata": {},
   "source": [
    "## 问题 8  \n",
    "\n",
    "> 给定由n个正整数组成的一个集合$S = \\{a_1, a_2，···，a_n\\}$和一个正整数W，设计一个算法确定是否存在S的一个子集 $K \\subseteq S$, 使K中所有数之和为 $W$, 如果存在返回“True”，否则返回“False”\n",
    "\n",
    "请设计一个时间复杂度为$O(nW)$动态规划算法，解决上述问题，分析算法的设计思路，并且基于python编程实现（不需要输出子集）。\n",
    "\n",
    "e.g. \n",
    "\n",
    "输入：S = {1,4,7,3,5}， W = 11，输出：True。   因为K可以是{4,7}。\n",
    "\n"
   ]
  },
  {
   "metadata": {},
   "cell_type": "markdown",
   "source": ""
  },
  {
   "cell_type": "markdown",
   "metadata": {},
   "source": [
    "idea：我们用一个二维布尔数组 dp[i][w] 表示：\n",
    "前 i 个数中，是否能选出若干个数，使它们的和恰好为 w"
   ]
  },
  {
   "cell_type": "code",
   "metadata": {
    "ExecuteTime": {
     "end_time": "2025-04-26T05:41:25.658414Z",
     "start_time": "2025-04-26T05:41:25.652398Z"
    }
   },
   "source": [
    "# add your idea here\n",
    "def subset_sum(S, W):\n",
    "    n = len(S)\n",
    "    dp = [False] * (W + 1)\n",
    "    dp[0] = True  # 和为0总是可以的（选空集）\n",
    "\n",
    "    for num in S:\n",
    "        # 从后往前更新，避免重复使用num\n",
    "        for w in range(W, num - 1, -1):\n",
    "            dp[w] = dp[w] or dp[w - num]\n",
    "\n",
    "    return dp[W]\n",
    "\n",
    "S = [1, 4, 7, 3, 5]\n",
    "W = 11\n",
    "print(subset_sum(S, W))  # 输出 True，因为存在 {4, 7} 或 {1, 3, 7}\n",
    "\n",
    "# your algorithm time complexity is: O(nW)"
   ],
   "outputs": [
    {
     "name": "stdout",
     "output_type": "stream",
     "text": [
      "True\n"
     ]
    }
   ],
   "execution_count": 12
  },
  {
   "cell_type": "markdown",
   "metadata": {},
   "source": [
    "\n",
    "\n",
    "## 问题 9 \n",
    "\n",
    "> 给定一个n个物品的集合。物体的重量为$w_1, w_2，…、w_n$，物品的价值分别是$v_1、v_2、…v_n$。给你**两个**重量为 $c$ 的背包。如果你带了一个东西，它可以放在一个背包里，也可以放在另一个背包里，但不能同时放在两个背包里。所有权重和价值都是正整数。\n",
    "\n",
    "1. 设计一个时间复杂度为 $O(nc^2)$ 的动态规划算法，确定可以放入两个背包的物体的最大价值。分析算法设计思路，并基于python编程实现\n",
    "2. \\* 修改1中的算法，输出每个背包的内容（物品对应下标）。\n",
    "\n",
    "e.g.: \n",
    "\n",
    "输入 V=[1,3,2,5,8,7], W=[1,3,2,5,8,7], c=7, 输出：最大价值=14，背包装的物品为：[6] [4，3] （同一个背包中物品装入顺序对结果无影响）  \n"
   ]
  },
  {
   "cell_type": "markdown",
   "metadata": {},
   "source": [
    "idea：\n",
    "1.定义状态\n",
    "dp[i][j][k]：前 i 个物品，背包1剩余容量 j，背包2剩余容量 k 时的最大价值。\n",
    "2.初始化\n",
    "dp[0][j][k] = 0，表示没有物品时，总价值是 0。\n",
    "3.状态转移\n",
    "对于每个物品 i：\n",
    "不选：dp[i][j][k] = dp[i-1][j][k]\n",
    "放入背包1（如果能放）：dp[i][j][k] = max(dp[i][j][k], dp[i-1][j-W[i-1]][k] + V[i-1])\n",
    "放入背包2（如果能放）：dp[i][j][k] = max(dp[i][j][k], dp[i-1][j][k-W[i-1]] + V[i-1])\n",
    "4.答案\n",
    "最终答案是 dp[n][c][c]。"
   ]
  },
  {
   "cell_type": "code",
   "metadata": {
    "ExecuteTime": {
     "end_time": "2025-04-26T06:21:35.441434Z",
     "start_time": "2025-04-26T06:21:35.428536Z"
    }
   },
   "source": [
    "# add your idea here\n",
    "def double_knapsack(W, V, c):\n",
    "    n = len(W)\n",
    "    dp = [[[0] * (c + 1) for _ in range(c + 1)] for _ in range(n + 1)]\n",
    "\n",
    "    for i in range(1, n + 1):\n",
    "        w, v = W[i - 1], V[i - 1]\n",
    "        for j in range(c + 1):\n",
    "            for k in range(c + 1):\n",
    "                # 不选第i个物品\n",
    "                dp[i][j][k] = dp[i - 1][j][k]\n",
    "                # 放入背包1\n",
    "                if j >= w:\n",
    "                    dp[i][j][k] = max(dp[i][j][k], dp[i - 1][j - w][k] + v)\n",
    "                # 放入背包2\n",
    "                if k >= w:\n",
    "                    dp[i][j][k] = max(dp[i][j][k], dp[i - 1][j][k - w] + v)\n",
    "    \n",
    "    return dp[n][c][c]\n",
    "\n",
    "V = [1, 3, 2, 5, 8, 7]\n",
    "W = [1, 3, 2, 5, 8, 7]\n",
    "c = 7\n",
    "print(\"最大价值 =\", double_knapsack(W, V, c))\n",
    "\n",
    "# your algorithm time complexity is: O(nc^2)"
   ],
   "outputs": [
    {
     "name": "stdout",
     "output_type": "stream",
     "text": [
      "最大价值 = 14\n"
     ]
    }
   ],
   "execution_count": 14
  },
  {
   "cell_type": "markdown",
   "metadata": {},
   "source": [
    "## 问题 10 \n",
    "\n",
    "> 给定两个字符串 $x[1..n]$ 和 $y[1..m]$，我们想通过以下操作将 $x$ 变换为 $y$ :\n",
    ">\n",
    "> **插入**：在 $x$ 中插入一个字符(在任何位置)；**删除**：从 $x$ 中删除一个字符(在任何位置)； **替换**：用另一个字符替换 $x$ 中的一个字符。\n",
    ">\n",
    "> 例如: $x = abcd$, $y = bcfe$，\n",
    ">\n",
    "> - 将 $x$ 转换为 $y$ 的一种可能方法是：1. 删除 $x$ 开头的 $a$, $x$变成 $bcd$； 2. 将 $x$ 中的字符 $d$ 替换为字符 $f$。$x$ 变成 $bcf$； 3. 在 $x$ 的末尾插入字符 $e$。$x$ 变成 $bcfe$。\n",
    ">\n",
    "> - 另一种可能的方法：1. 删除 $x$ 开头的 $a$,  $x$ 变成 $bcd$； 2. 在 $x$ 中字符 $d$ 之前插入字符 $f$。$x$ 变成 $bcfd$。3. 将 $x$ 中的字符 $d$ 替换为字符 $e$。$x$ 变成 $bcfe$。\n",
    "\n",
    "设计一个时间复杂度为 $O(mn)$ 的算法，返回将 $x$ 转换为 $y$ 所需的最少操作次数。分析算法设计思路，并基于python编程实现。\n"
   ]
  },
  {
   "cell_type": "markdown",
   "metadata": {},
   "source": [
    "idea：\n",
    "1.定义状态\n",
    "dp[i][j] 表示将 x[0..i-1] 转换为 y[0..j-1] 所需要的最少操作次数。\n",
    "2.初始化\n",
    "dp[0][j] = j：空串变成 y，需要插入 j 次。\n",
    "dp[i][0] = i：x 变成空串，需要删除 i 次。\n",
    "3.状态转移\n",
    "如果 x[i-1] == y[j-1]：\n",
    "dp[i][j] = dp[i-1][j-1] （字符相同，无需操作）\n",
    "否则：\n",
    "dp[i][j] = 1 + min(删除, 插入, 替换)\n",
    "删除：dp[i-1][j]\n",
    "插入：dp[i][j-1]\n",
    "替换：dp[i-1][j-1]\n",
    "4.答案\n",
    "最终答案是 dp[n][m]。"
   ]
  },
  {
   "cell_type": "code",
   "metadata": {
    "ExecuteTime": {
     "end_time": "2025-04-26T06:35:30.224598Z",
     "start_time": "2025-04-26T06:35:30.215798Z"
    }
   },
   "source": [
    "# add your idea here\n",
    "def min_edit_distance(x, y):\n",
    "    n, m = len(x), len(y)\n",
    "    dp = [[0] * (m + 1) for _ in range(n + 1)]\n",
    "\n",
    "    # 初始化\n",
    "    for i in range(n + 1):\n",
    "        dp[i][0] = i\n",
    "    for j in range(m + 1):\n",
    "        dp[0][j] = j\n",
    "\n",
    "    # 状态转移\n",
    "    for i in range(1, n + 1):\n",
    "        for j in range(1, m + 1):\n",
    "            if x[i - 1] == y[j - 1]:\n",
    "                dp[i][j] = dp[i - 1][j - 1]\n",
    "            else:\n",
    "                dp[i][j] = 1 + min(\n",
    "                    dp[i - 1][j],    # 删除\n",
    "                    dp[i][j - 1],    # 插入\n",
    "                    dp[i - 1][j - 1] # 替换\n",
    "                )\n",
    "    \n",
    "    return dp[n][m]\n",
    "\n",
    "# 示例\n",
    "x = \"abcd\"\n",
    "y = \"bcfe\"\n",
    "print(min_edit_distance(x, y))  # 输出：3\n",
    "\n",
    "# your algorithm time complexity is: O(mn)"
   ],
   "outputs": [
    {
     "name": "stdout",
     "output_type": "stream",
     "text": [
      "3\n"
     ]
    }
   ],
   "execution_count": 15
  }
 ],
 "metadata": {
  "language_info": {
   "name": "python"
  },
  "kernelspec": {
   "name": "python3",
   "language": "python",
   "display_name": "Python 3 (ipykernel)"
  }
 },
 "nbformat": 4,
 "nbformat_minor": 2
}
