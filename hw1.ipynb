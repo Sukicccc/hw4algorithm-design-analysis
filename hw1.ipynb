{
 "cells": [
  {
   "cell_type": "markdown",
   "metadata": {},
   "source": [
    "## algorithm design and anlysis-2025 spring  homework 1 \n",
    "**Deadline**：2025.5.14\n",
    "\n",
    "**name**:\n",
    "\n",
    "\n",
    "note：\n",
    "---\n",
    "1. 带有\\*的题目，申请免上课的同学，必须完成，其他同学选作；\n",
    "2. 请独立完成，如求助了他人或者大模型，请著明，并且不可省略算法分析部分；\n",
    "4. 如若作答有雷同，全部取消成绩；\n",
    "3. 需要书面作答的题目，可以通过引用图片的形式添加，但是注意上传项目时包含所引用的图片的源文件；\n",
    "4. $log_n$ 默认表示$log_2{n}$;"
   ]
  },
  {
   "cell_type": "markdown",
   "metadata": {},
   "source": [
    "## 问题 1\n",
    "\n",
    "对于下面的每一对表达式(A, B), A是否能表示为B的 $\\Theta, \\Omega ,O$形式. 请注意, 这些关系中的零个、一个或多个可能成立。列出所有正确的。经常发生一些学生会,把指示写错, 所以请把关系写完整, 例如: $A = O(B),  A =\\Theta(B)$, 或$A = \\Omega(B)$。\n",
    "\n",
    "1. $A=n^2-100n, B=n^2$\n",
    "2. $A=logn, B=log_{1.2}n$\n",
    "3. $A=3^{2n}, B=2^{4n}$\n",
    "4. $A=2^{logn}, B=n$\n",
    "5. $A=\\log{\\log}{n},B=10^{10^{100}}$"
   ]
  },
  {
   "cell_type": "markdown",
   "metadata": {},
   "source": [
    "can refer a handwritten picture, pleas upload the picture in /fig/xxx.png  \n",
    "![figure](./fig/hw1q1answer.png)"
   ]
  },
  {
   "cell_type": "markdown",
   "metadata": {},
   "source": [
    "## 问题 2：\n",
    "\n",
    "假设有函数 $f$ 和 $g$ 使得 $f(n)$ = $O(g(n))$ 对于下面的每一个陈述, 请判断对错, 如果正确请给出证明, 否则请给出一个反例。\n",
    "\n",
    "1. $\\log{f(n)}$ = $O(\\log(1+g(n)))$\n",
    "2. $3^{f(n)}=O(3^{g(n)})$\n",
    "3. $(f(n))^2=O((g(n))^2)$ "
   ]
  },
  {
   "cell_type": "markdown",
   "metadata": {},
   "source": [
    "you can refer a handwritten picture, pleas upload the picture in /fig/xxx.png\n",
    "answer:\n",
    "![figure](./fig/hw1q2 answer.png)"
   ]
  },
  {
   "cell_type": "markdown",
   "metadata": {},
   "source": [
    "## 问题 3\n",
    "\n",
    "根据下列递归公式, 计算下列 $T(n)$ 对应的的渐近上界。要求所求的边界尽可能的紧（tight）, 请写明步骤。\n",
    "\n",
    "1. $T(1)=1; T(n)=T(n/4)+1$ for $n>1$\n",
    "2. $T(1)=1;T(n)=3T(n/3)+n^2$ for $n>1$\n",
    "3. $T(1)=1;T(n)=T(2n/3)+1$ for $n>1$\n",
    "4. $T(1)=1;T(n)=5T(n/4)+n$ for $n>1$\n",
    "5. $T(n)=1 \\ for\\ n \\le 2 ; T(n)=T(\\sqrt{n})+1 \\ for \\ n>2$"
   ]
  },
  {
   "cell_type": "markdown",
   "metadata": {},
   "source": [
    "can refer a handwritten picture, pleas upload the picture in /fig/xxx.png\n",
    "answer:\n",
    "![figure](./fig/hw1q3 answer.png)"
   ]
  },
  {
   "cell_type": "markdown",
   "metadata": {},
   "source": [
    "## 问题 4：\n",
    "\n",
    "给定一个包含n个元素的数组 `profits` , 它的第 `i` 个元素 `profits[i]` 表示一支股票第 `i` 天的**收益**（正数表示涨, 负数表示跌）。你只能选择 **某一天** 买入这只股票, 并选择在 **未来的某一个不同的日子** 卖出该股票。\n",
    "\n",
    "1. 设计一个算法来计算你所能获取的最大利润和对应买入和卖出的日期。请分析算法方案, 计算其时间复杂度, 并且使用python编程实现该算法。\n",
    "\n",
    "2. \\* 设计一个时间复杂度为 $O(n)$的算法实现该算法\n",
    "\n",
    "e.g. :\n",
    "---\n",
    "profits=[3,2,1,-7,5,2,-1,3,-1], 第5天买入, 第8天卖出, 收益最大：9\n",
    "\n"
   ]
  },
  {
   "cell_type": "markdown",
   "metadata": {},
   "source": [
    "idea:\n",
    "### 算法思路：\n",
    "遍历数组，记录当前的最小收益值（即买入点）。\n",
    "计算当前收益值与最小收益值的差值，更新最大利润和对应的买入、卖出日期。\n",
    "如果当前收益值比最小收益值更小，则更新最小收益值。"
   ]
  },
  {
   "cell_type": "code",
   "metadata": {
    "ExecuteTime": {
     "end_time": "2025-05-07T07:00:33.134669Z",
     "start_time": "2025-05-07T07:00:33.122950Z"
    }
   },
   "source": [
    "#1.\n",
    "def max_profit(profits):\n",
    "    if not profits or len(profits) < 2:\n",
    "        return 0, -1, -1\n",
    "    \n",
    "    max_profit = float('-inf')\n",
    "    current_sum = 0\n",
    "    buy_day = 0\n",
    "    sell_day = 0\n",
    "    temp_buy_day = 0\n",
    "    \n",
    "    for i in range(len(profits)):\n",
    "        current_sum += profits[i]\n",
    "        if current_sum > max_profit:\n",
    "            max_profit = current_sum\n",
    "            buy_day = temp_buy_day\n",
    "            sell_day = i\n",
    "        if current_sum < 0:\n",
    "            current_sum = 0\n",
    "            temp_buy_day = i + 1\n",
    "    \n",
    "    if max_profit < 0:\n",
    "        return 0, -1, -1\n",
    "    return max_profit, buy_day + 1, sell_day + 1\n",
    "\n",
    "profits = [3, 2, 1, -7, 5, 2, -1, 3, -1]\n",
    "max_profit, buy_day, sell_day = max_profit(profits)\n",
    "print(f\"最大利润: {max_profit}, 买入日期: {buy_day}, 卖出日期: {sell_day}\")\n",
    "\n",
    "# 算法时间复杂度为O(n)\n"
   ],
   "outputs": [
    {
     "name": "stdout",
     "output_type": "stream",
     "text": [
      "最大利润: 9, 买入日期: 5, 卖出日期: 8\n"
     ]
    }
   ],
   "execution_count": 2
  },
  {
   "cell_type": "code",
   "metadata": {},
   "source": [
    "# an algorithm with O(n)"
   ],
   "outputs": [],
   "execution_count": null
  },
  {
   "cell_type": "markdown",
   "metadata": {},
   "source": [
    "## 问题 5：\n",
    "\n",
    "观察下方的分治算法（divide-and-conquer algorithm）的伪代码, 回答下面问题\n",
    "\n",
    "```latex\n",
    "DoSomething(A,p,r)\n",
    "-----\n",
    "n := r-p+1\n",
    "if n=2 and A[p]>A[r] then\n",
    "    swap A[p] and A[r]\n",
    "else if n >= 3 then\n",
    "    m = ceil(2n/3)\n",
    "    DoSomething(A,p,p+m-1)\n",
    "    DoSomething(A,r-m+1,r)\n",
    "    DoSomething(A,p,p+m-1)  \n",
    "    \n",
    "---\n",
    "first call: DoSomething(A,1,n)\n",
    "```\n",
    "\n",
    "note：$ceil(2n/3)=\\left\\lceil {2n/3} \\right\\rceil$；$:=$ 表示赋值, 等价于 $\\to$；A是一个包含n的整数元素的数组, \n",
    "\n",
    "1. 写出该算法时间复杂度的递归公式, 并求解其对应的渐进表示\n",
    "2. 描述一下该算法的功能, 并判断是否是最高效的解决方案\n",
    "3. 使用python编程实现上述算法或其对应的更高效版本的算法\n"
   ]
  },
  {
   "cell_type": "markdown",
   "metadata": {},
   "source": [
    "1.递归公式：\n",
    "T(n) = \n",
    "\\begin{cases} \n",
    "O(1) & \\text{if } n = 2 \\\\\n",
    "3T\\left(\\left\\lceil \\frac{2n}{3} \\right\\rceil\\right) + O(1) & \\text{if } n \\geq 3 \n",
    "\\end{cases}\n",
    "渐进表示：\n",
    "T(n) = $\\Theta(n^{\\log_{3/2} 3}) \\approx \\Theta(n^{2.71})$"
   ]
  },
  {
   "cell_type": "markdown",
   "metadata": {},
   "source": [
    "2.功能描述：\n",
    "该算法是一个分治算法，用于对数组 A的指定范围[p,r] 进行排序。\n",
    "当子数组长度为 2 时，直接比较并交换（类似冒泡排序的最小单元）。\n",
    "当子数组长度大于等于 3 时，递归处理前$\\frac{2}{3}$、后$\\frac{2}{3}$ ，再处理前$\\frac{2}{3}$。\n",
    "\n",
    "是否高效：\n",
    "否。该算法的时间复杂度为$\\Theta(n^{\\log_{3/2} 3}) \\approx \\Theta(n^{2.71})$，远低于标准排序算法（如快速排序的 O(nlogn)）。\n",
    "\n",
    "更高效的解决方案是直接使用标准排序算法（如归并排序或快速排序）。"
   ]
  },
  {
   "cell_type": "code",
   "metadata": {},
   "source": [
    "# add your code here\n",
    "# 3.\n",
    "def quicksort(A, p, r):\n",
    "    if p < r:\n",
    "        q = partition(A, p, r)\n",
    "        quicksort(A, p, q - 1)\n",
    "        quicksort(A, q + 1, r)\n",
    "\n",
    "def partition(A, p, r):\n",
    "    pivot = A[r]\n",
    "    i = p - 1\n",
    "    for j in range(p, r):\n",
    "        if A[j] <= pivot:\n",
    "            i += 1\n",
    "            A[i], A[j] = A[j], A[i]\n",
    "    A[i + 1], A[r] = A[r], A[i + 1]\n",
    "    return i + 1\n",
    "\n",
    "# 示例\n",
    "A = [5, 2, 9, 1, 5, 6]\n",
    "quicksort(A, 0, len(A) - 1)\n",
    "print(A)  # 输出: [1, 2, 5, 5, 6, 9]\n",
    "\n",
    "# your algorithm time complexity is :O(nlogn)"
   ],
   "outputs": [],
   "execution_count": null
  },
  {
   "cell_type": "markdown",
   "metadata": {},
   "source": [
    "## 问题 6：\n",
    "\n",
    "给定一个大小为 `n` 的数组 `nums` , 返回其中的多数元素。多数元素是指在数组中出现次数 **大于** `⌊ n/2 ⌋` 的元素。\n",
    "\n",
    "你可以假设数组是非空的, 并且给定的数组总是存在多数元素。\n",
    "\n",
    "1. 设计一个算法找到给定数组的多数元素, 分析算法设计思路, 计算算法时间复杂度, 使用python编程实现\n",
    "2. \\* 设计时间复杂度为 O(n)、空间复杂度为 O(1) 的算法解决此问题, 分析算法设计思路, 使用python编程实现\n",
    "\n",
    "e.g.:\n",
    "---\n",
    "1. nums=[3,2,3], 返回3\n",
    "2. nums=[2,2,1,1,1,2,2], 返回2\n"
   ]
  },
  {
   "cell_type": "markdown",
   "metadata": {},
   "source": [
    "idea：\n",
    "### 算法设计思路\n",
    "核心思想：如果我们把多数元素和其他所有元素一一抵消，最后剩下的一定是多数元素。\n",
    "具体操作：\n",
    "初始化一个候选者 candidate和一个计数器 count。\n",
    "遍历数组：\n",
    "如果count == 0，就把当前元素设为新的候选者candidate。\n",
    "如果当前元素等于candidate，count += 1；否则count -= 1。\n",
    "遍历完毕，candidate就是多数元素。"
   ]
  },
  {
   "cell_type": "code",
   "metadata": {},
   "source": [
    "# add your code here\n",
    "# 1.\n",
    "def majorityElement(nums):\n",
    "    candidate = None\n",
    "    count = 0\n",
    "    for num in nums:\n",
    "        if count == 0:\n",
    "            candidate = num\n",
    "        count += 1 if num == candidate else -1\n",
    "    return candidate\n",
    "\n",
    "print(majorityElement([3, 2, 3]))         \n",
    "print(majorityElement([2, 2, 1, 1, 1, 2, 2])) \n",
    "\n",
    "# your algorithm time complexity is :O(n)"
   ],
   "outputs": [],
   "execution_count": null
  },
  {
   "cell_type": "markdown",
   "metadata": {},
   "source": [
    "idea for 2\\*："
   ]
  },
  {
   "cell_type": "code",
   "metadata": {},
   "source": [
    "# algorithm time complexity：O(n), space complexity:O(1)\n",
    "# add your code here"
   ],
   "outputs": [],
   "execution_count": null
  },
  {
   "cell_type": "markdown",
   "metadata": {},
   "source": [
    "## 问题 7：\n",
    "\n",
    "给定一个包含不同整数元素的数组 $ A[1..n]$ ,并且满足条件：$A[1]>A[2]$ 并且 $A[n-1]<A[n]$; 规定：如果一个元素比它两边的邻居元素都小, 即：$A[x]<A[x-1], A[x]<A[x+1]$ , 称这个元素A[x]为“局部最小”。通过遍历一次数组, 我们可以很容易在 $O(n)$的时间复杂度下找到一个局部最小值, \n",
    "\n",
    "\n",
    "1. 分析该问题, 设计一个算法在$O(logn)$的时间复杂度下找到一个局部最小(返回数值), 要求：分析算法设计思路, 并且使用python编程实现\n",
    "2. \\* 设计算法找出所有局部最小值, 分析算法设计思路, 并使用python编程实现\n",
    "\n",
    "e.g.:\n",
    "---\n",
    "A=[9, 3, 7, 2, 1, 4, 5 ] 时,  局部最小元素为 3, 1\n"
   ]
  },
  {
   "cell_type": "markdown",
   "metadata": {},
   "source": [
    "idea：\n",
    "### 算法设计思路：\n",
    "令 low = 1，high = n - 2（因为 A[1] > A[2] 和 A[n-1] < A[n]，所以局部最小一定在中间）；\n",
    "取中点 mid = (low + high) // 2\n",
    "如果 A[mid] < A[mid - 1] 且 A[mid] < A[mid + 1]，说明 mid 就是局部最小；\n",
    "如果 A[mid - 1] < A[mid]，说明左边可能有局部最小，high = mid - 1；\n",
    "否则右边可能有，low = mid + 1；\n",
    "重复二分直到找到为止。"
   ]
  },
  {
   "cell_type": "code",
   "metadata": {},
   "source": [
    "# add your code here\n",
    "# 1.\n",
    "def findOneLocalMin(A):\n",
    "    low, high = 1, len(A) - 2\n",
    "    while low <= high:\n",
    "        mid = (low + high) // 2\n",
    "        if A[mid] < A[mid - 1] and A[mid] < A[mid + 1]:\n",
    "            return A[mid]\n",
    "        elif A[mid - 1] < A[mid]:\n",
    "            high = mid - 1\n",
    "        else:\n",
    "            low = mid + 1\n",
    "    return None\n",
    "A = [9, 3, 7, 2, 1, 4, 5]\n",
    "print(findOneLocalMin(A))     # 可能是 3 或 1（任意一个局部最小）\n",
    "\n",
    "# your algorithm time complexity is :O(logn)"
   ],
   "outputs": [],
   "execution_count": null
  },
  {
   "cell_type": "markdown",
   "metadata": {},
   "source": [
    "idea:"
   ]
  },
  {
   "cell_type": "code",
   "metadata": {},
   "source": [
    "# add your code here\n",
    "# your algorithm time complexity is :"
   ],
   "outputs": [],
   "execution_count": null
  },
  {
   "cell_type": "markdown",
   "metadata": {},
   "source": [
    "## 问题 8：\n",
    "\n",
    "给定包含n个不同数字的一组数, 寻找一种基于比较的算法在这组数中找到k个最小的数字, 并按顺序输出它们。\n",
    "\n",
    "1. 将n个数先进行排序, 然后按顺序输出最小的k个数。要求：选择合适的排序算法实现上述操作, 计算算法时间复杂度, 并使用python编程实现。\n",
    "2. 建立一个包含这n个数的堆（heap）, 并且调用 k 次Extract-min 按顺序输出最小的k个数。使用往空堆中不断插入元素的方法建立堆, 分析这种方法建堆的时间复杂度, 并使用python编程实现\n",
    "3. \\* 假设数组中包含的数据总数目超过了计算机的存储能力, 请设计一个算法, 找到这堆数据的前k小的数值, 计算时间复杂度, 并使用python实现该算法, 假设计算机一定能存储k个数据。\n",
    "\n",
    "e.g.：\n",
    "---\n",
    "数组arr=[5,4,3,2,6,1,88,33,22,107] 的前3个最小数据为：1, 2, 3\n"
   ]
  },
  {
   "cell_type": "markdown",
   "metadata": {},
   "source": [
    "idea：\n",
    "### 思路：\n",
    "先对数组整体排序；\n",
    "取前 k 个元素输出。"
   ]
  },
  {
   "metadata": {},
   "cell_type": "code",
   "source": [
    "# add your code here\n",
    "# 1.\n",
    "def get_k_smallest_sort(arr, k):\n",
    "    return sorted(arr)[:k]\n",
    "\n",
    "arr = [5, 4, 3, 2, 6, 1, 88, 33, 22, 107]\n",
    "k = 3\n",
    "\n",
    "print(get_k_smallest_sort(arr, k))       # 输出 [1, 2, 3]\n",
    "\n",
    "# your algorithm time complexity is :O(n log n)"
   ],
   "outputs": [],
   "execution_count": null
  },
  {
   "metadata": {},
   "cell_type": "markdown",
   "source": [
    "### 思路：\n",
    "建立一个最小堆（heapify，O(n)）；\n",
    "调用 k 次 heappop() 弹出最小元素。"
   ]
  },
  {
   "cell_type": "code",
   "metadata": {},
   "source": [
    "# add your code here\n",
    "# 2.\n",
    "import heapq\n",
    "\n",
    "def get_k_smallest_heap(arr, k):\n",
    "    heapq.heapify(arr)               # O(n)\n",
    "    return [heapq.heappop(arr) for _ in range(k)]  # k 次 O(log n)\n",
    "\n",
    "arr = [5, 4, 3, 2, 6, 1, 88, 33, 22, 107]\n",
    "k = 3\n",
    "\n",
    "print(get_k_smallest_heap(arr.copy(), k)) # 输出 [1, 2, 3]\n",
    "\n",
    "# your algorithm time complexity is :O(n + k log n)"
   ],
   "outputs": [],
   "execution_count": null
  },
  {
   "cell_type": "markdown",
   "metadata": {},
   "source": [
    "## 问题 9：\n",
    "\n",
    "**选择问题**:给定一个包含n个未排序值的数组A和一个$k≤n$的整数, 返回A中最小的第k项。\n",
    "\n",
    "在课堂上, 学了一个简单的O(n)随机算法来解决选择问题。事实上还有一种更复杂的最坏情况下时间复杂度为$O(n)$ 的选择算法。假设使用一个黑盒过程来实现这个O(n)选择算法: 给定一个数组A、 $p < r$ 和 k,  $BB(A, p, r, k)$ 可以在$O(r−p+ 1)$时间内找到并报告$A[p..r]$中第k小的项的下标。假设你可以在线性时间内处理Partition过程。\n",
    "\n",
    "1. 请分析如何修改 Quicksork 算法可以使其最差情况下的运行时间为 $O(nlogn)$, 使用伪代码实现, 并分析为何修改后的版本最差情况的运行时间为$O(nlogn)$\n",
    "\n",
    "note: 伪代码中, 你可以直接调用用` BB(A,p,r,k)`这个函数用于表示在最坏情况下时间复杂度为$O(n)$的选择算法；\n",
    "\n",
    "\n",
    "\n",
    "2. 找到一个更好的算法报告数组A中的前k小的项, 使用伪代码表示你的算法, 并分析你算法的时间复杂度。\n",
    "\n",
    "举例：A=[13, 3, 7, 9, 11, 1, 15, 2, 8, 10, 12, 16, 14, 5], 当k=4时, 应该报告1, 2, 3, 4\n",
    "\n",
    "note： 最直观的方法就是先将数组A排序, 然后从左向右报告其前k项, 这样操作的时间复杂度为$O(nlogn)$. 调用用` BB(A,p,r,k)`设计一个算法使其报告无序数组A的前k项, 满足时间复杂度好于$\\Theta(nlogn)$, 并且当$k=\\sqrt{n}$时, 你设计的算法时间复杂度应该为$\\Theta(n)$.\n",
    "\n",
    "\n",
    "\n",
    "3. 给定一个大小为n的数组, 找到一个 时间复杂度为$O(n log k)$ 的算法, 该算法将A中的元素重新排序, 使它们被划分为k个部分, 每个部分的元素小于或等于下一部分的元素。假设n和k都是2的幂。使用伪代码表示你的算法, 并分析时间复杂度。\n",
    "\n",
    "e.g.:\n",
    "---\n",
    "数组：[1,  3,  5,  7,  9,  11,  13,  15,  2,  4,  6,  8,  10,  12,  16,  14], k=4, \n",
    "\n",
    "对应重新排序的数组为：[1,  3,  2,  4]  [7,  6,  5,  8]  [12,  11,  10,  9]  [13,  14,  16,  15]\n",
    "\n",
    "\n"
   ]
  },
  {
   "cell_type": "markdown",
   "metadata": {},
   "source": "idea：来源于Chat GPT"
  },
  {
   "metadata": {},
   "cell_type": "markdown",
   "source": [
    "\n",
    "### 1.算法分析：\n",
    "传统的 Quicksort 算法在选择 pivot 时会随机选择一个元素，这样在某些情况下可能导致最坏的时间复杂度 O(n²)。为了改进，我们可以使用 BB(A, p, r, k) 来选取 pivot，使其在每次分割时都能保证较好的平衡，避免出现极度不均的分割。\n",
    "### 具体做法如下：\n",
    "首先，我们使用 BB(A, p, r, (r - p + 1) / 2) 来找到数组的中位数（即 pivot）。这个操作的时间复杂度为 O(n)。然后，使用这个中位数作为 pivot 进行分割。通过这种方式，Quicksort 的最坏情况是 O(n log n)。\n",
    "### 时间复杂度分析：\n",
    "每次使用 BB(A, p, r, k) 找到 pivot 的时间复杂度是 O(n)。递归调用会继续对左右子数组进行排序，每次递归都将问题规模减小，时间复杂度是 O(n log n)。\n",
    "因此，修改后的 Quicksort 算法在最坏情况下的时间复杂度是 O(n log n)。"
   ]
  },
  {
   "metadata": {
    "ExecuteTime": {
     "end_time": "2025-05-12T07:30:31.187458Z",
     "start_time": "2025-05-12T07:30:31.179412Z"
    }
   },
   "cell_type": "code",
   "source": [
    "def ModifiedQuicksort(A, p, r):\n",
    "    if p < r:\n",
    "        # 使用 BB 找到中位数（pivot）\n",
    "        pivot_index = BB(A, p, r, (r - p + 1) // 2)\n",
    "        # 分割过程，递归排序左右子数组\n",
    "        q = Partition(A, p, r, pivot_index)\n",
    "        ModifiedQuicksort(A, p, q - 1)\n",
    "        ModifiedQuicksort(A, q + 1, r)\n",
    "\n",
    "# 假设 Partition 是标准的分区过程，BB 用于找到 pivot"
   ],
   "outputs": [],
   "execution_count": 2
  },
  {
   "metadata": {},
   "cell_type": "markdown",
   "source": [
    "### 2.算法分析：\n",
    "我们可以通过逐步使用 BB(A, p, r, k) 来找到前 k 小的项，而不是完全排序数组。每次使用 BB(A, p, r, k) 找到第 k 小的元素，并根据该元素将数组分为两部分，重复该过程直至得到前 k 小的元素。\n",
    "### 时间复杂度：\n",
    "每次调用 BB(A, p, r, k) 找到第 k 小的元素的时间复杂度是 O(n)。递归调用最多进行 k 次，每次都减少一个元素的选择范围，因此时间复杂度是 O(n + (n-1) + (n-2) + ... + (n-k+1))，即 O(n)。因此，当 k = √n 时，算法的时间复杂度是 O(n)。"
   ]
  },
  {
   "metadata": {},
   "cell_type": "code",
   "source": [
    "\n",
    "\n",
    "def FindTopKSmallest(A, p, r, k):\n",
    "    if k == 0:\n",
    "        return []\n",
    "    # 使用 BB 找到第 k 小的元素\n",
    "    kth_smallest_index = BB(A, p, r, k)\n",
    "    kth_smallest = A[kth_smallest_index]\n",
    "\n",
    "    # 找到前 k 小的元素并返回\n",
    "    left_part = FindTopKSmallest(A, p, kth_smallest_index - 1, k - 1)\n",
    "    left_part.append(kth_smallest)\n",
    "    return left_part\n",
    "\n",
    "# 使用示例\n",
    "A = [13, 3, 7, 9, 11, 1, 15, 2, 8, 10, 12, 16, 14, 5]\n",
    "k = 4\n",
    "result = FindTopKSmallest(A, 0, len(A) - 1, k)\n",
    "print(result)  # 输出前4小的元素: [1, 2, 3, 4]\n"
   ],
   "outputs": [],
   "execution_count": null
  },
  {
   "metadata": {},
   "cell_type": "markdown",
   "source": [
    "### 3.算法分析：\n",
    "要将数组 A 中的元素划分为 k 个部分，我们可以通过以下步骤：使用 BB(A, p, r, n / k) 找到第 n/k 小的元素。将数组 A 分成两部分，左侧的元素小于或等于该元素，右侧的元素大于该元素。对每个部分继续使用类似的方法，直到我们将数组划分为 k 个部分。\n",
    "### 时间复杂度分析：\n",
    "每次调用 BB(A, p, r, n/k) 的时间复杂度为 O(n)。每次分割后，递归调用最多进行 O(log k) 次。因此总的时间复杂度是 O(n log k)。这样，我们就能在 O(n log k) 的时间复杂度内将数组划分为 k 个部分。"
   ]
  },
  {
   "cell_type": "code",
   "metadata": {},
   "source": [
    "# add your pseudo-code here\n",
    "\n",
    "def PartitionIntoKParts(A, p, r, k):\n",
    "    if k == 1:\n",
    "        return [A[p:r+1]]\n",
    "    \n",
    "    # 找到第 n/k 小的元素\n",
    "    nth_smallest_index = BB(A, p, r, (r - p + 1) // k)\n",
    "    nth_smallest = A[nth_smallest_index]\n",
    "\n",
    "    # 分割数组\n",
    "    left_part = [x for x in A[p:r+1] if x <= nth_smallest]\n",
    "    right_part = [x for x in A[p:r+1] if x > nth_smallest]\n",
    "    \n",
    "    # 递归处理剩余的部分，直到划分成 k 个部分\n",
    "    left_parts = PartitionIntoKParts(left_part, 0, len(left_part) - 1, k // 2)\n",
    "    right_parts = PartitionIntoKParts(right_part, 0, len(right_part) - 1, k // 2)\n",
    "    \n",
    "    return left_parts + right_parts\n",
    "\n",
    "# 使用示例\n",
    "A = [1, 3, 5, 7, 9, 11, 13, 15, 2, 4, 6, 8, 10, 12, 16, 14]\n",
    "k = 4\n",
    "result = PartitionIntoKParts(A, 0, len(A) - 1, k)\n",
    "print(result)  # 输出划分后的部分\n"
   ],
   "outputs": [],
   "execution_count": null
  },
  {
   "cell_type": "markdown",
   "metadata": {},
   "source": [
    "## 问题 10：\n",
    "\n",
    "给定一个包含m个**字符串**的数组A, 其中不同的字符串可能有不同的字符数, 但数组中所有字符串的字符总数为n。设计一个算法在 $O(n)$ 时间内对字符串进行排序, 分析算法设计方案, 计算其时间复杂度, 并基于python编程实现该算法。请注意, 假设字符串只包含\"a\",\"b\",...,\"z\", \n",
    "\n",
    "\n",
    "\n",
    "举例1：数组A=[\"a\", \"da\", \"bde\", \"ab\", \"bc\", \"abdc\", \"cdba\"], 排序后的数组应该为：['a', 'ab', 'abdc', 'bc', 'bde', 'cdba', 'da']\n",
    "\n",
    "\n",
    "\n",
    "举例2：数组A=['ab', 'a', 'b', 'abc', 'ba', 'c'], 排序后的数组应该为：\n",
    "\n",
    "['a', 'ab', 'abc', 'b', 'ba', 'c']\n",
    "\n",
    "\n",
    "\n",
    "举例3：数组A=['aef', 'yzr', 'wr', 'ab', 'bhjc', 'lkabdc', 'pwcdba'],  排序后的数组应该为：['ab', 'aef', 'bhjc', 'lkabdc', 'pwcdba', 'wr', 'yzr']\n",
    "\n",
    "\n",
    "\n",
    "note：\n",
    "\n",
    "-  两个字符之间的比较可以考虑比较他们对应的ASCII码值；\n",
    "- python中可以使用`ord(\"a\")`返回字符 “a”对应的ASCII值"
   ]
  },
  {
   "cell_type": "markdown",
   "metadata": {},
   "source": "idea:来源于ChatGPT"
  },
  {
   "metadata": {},
   "cell_type": "markdown",
   "source": [
    "### 算法分析：\n",
    "设字符串最大长度为 L；从最后一位字符（位置 L-1）开始，对所有字符串进行稳定排序；使用计数排序排序每一位；重复 L 次，最终得到排序结果；总时间复杂度：O(n)，因为我们对每一位最多处理所有 n 个字符。\n",
    "### 复杂度分析：\n",
    "每轮计数排序是 O(n)，共处理 max_len 轮；总复杂度为：O(n)，因为字符串总字符数就是 n；空间复杂度：O(n + 26)，主要用于桶。"
   ]
  },
  {
   "cell_type": "code",
   "metadata": {
    "ExecuteTime": {
     "end_time": "2025-05-07T03:18:53.449118Z",
     "start_time": "2025-05-07T03:18:53.429976Z"
    }
   },
   "source": [
    "# add your code here\n",
    "def radix_sort_strings(arr):\n",
    "    if not arr:\n",
    "        return arr\n",
    "\n",
    "    max_len = max(len(s) for s in arr)\n",
    "\n",
    "    for pos in range(max_len - 1, -1, -1):\n",
    "        # 稳定计数排序按第 pos 位字符\n",
    "        buckets = [[] for _ in range(27)]  # 0 表示空字符，其余 1~26 表示 'a'~'z'\n",
    "\n",
    "        for s in arr:\n",
    "            if pos < len(s):\n",
    "                index = ord(s[pos]) - ord('a') + 1\n",
    "            else:\n",
    "                index = 0  # 空字符优先级最低\n",
    "            buckets[index].append(s)\n",
    "\n",
    "        # 合并桶\n",
    "        arr = [s for bucket in buckets for s in bucket]\n",
    "\n",
    "    return arr\n",
    "\n",
    "A1 = [\"a\", \"da\", \"bde\", \"ab\", \"bc\", \"abdc\", \"cdba\"]\n",
    "A2 = ['ab', 'a', 'b', 'abc', 'ba', 'c']\n",
    "A3 = ['aef', 'yzr', 'wr', 'ab', 'bhjc', 'lkabdc', 'pwcdba']\n",
    "\n",
    "print(radix_sort_strings(A1))  # ['a', 'ab', 'abdc', 'bc', 'bde', 'cdba', 'da']\n",
    "print(radix_sort_strings(A2))  # ['a', 'ab', 'abc', 'b', 'ba', 'c']\n",
    "print(radix_sort_strings(A3))  # ['ab', 'aef', 'bhjc', 'lkabdc', 'pwcdba', 'wr', 'yzr']\n",
    "\n",
    "# your algorithm time complexity is :O(n)\n"
   ],
   "outputs": [
    {
     "name": "stdout",
     "output_type": "stream",
     "text": [
      "['a', 'ab', 'abdc', 'bc', 'bde', 'cdba', 'da']\n",
      "['a', 'ab', 'abc', 'b', 'ba', 'c']\n",
      "['ab', 'aef', 'bhjc', 'lkabdc', 'pwcdba', 'wr', 'yzr']\n"
     ]
    }
   ],
   "execution_count": 1
  },
  {
   "metadata": {},
   "cell_type": "code",
   "outputs": [],
   "execution_count": null,
   "source": ""
  }
 ],
 "metadata": {
  "language_info": {
   "name": "python"
  },
  "kernelspec": {
   "name": "python3",
   "language": "python",
   "display_name": "Python 3 (ipykernel)"
  }
 },
 "nbformat": 4,
 "nbformat_minor": 2
}
