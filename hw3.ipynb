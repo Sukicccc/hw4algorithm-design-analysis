{
 "cells": [
  {
   "cell_type": "markdown",
   "metadata": {},
   "source": [
    "## algorithm design and anlysis-2025 spring  homework 3\n",
    "**Deadline**：2025.5.14\n",
    "\n",
    "**name**:\n",
    "\n",
    "\n",
    "note：\n",
    "---\n",
    "1. 带有\\*的题目，申请免上课的同学，必须完成，其他同学选作；\n",
    "2. 请独立完成，如求助了他人或者大模型，请著明，并且不可省略算法分析部分；\n",
    "4. 如若作答有雷同，全部取消成绩；\n",
    "3. 需要书面作答的题目，可以通过引用图片的形式添加，但是注意上传项目时包含所引用的图片的源文件；\n",
    "4. $log_n$ 默认表示$log_2{n}$;"
   ]
  },
  {
   "cell_type": "markdown",
   "metadata": {},
   "source": [
    "## 问题 1  \n",
    "\n",
    "请证明基于比较的排序算法计算复杂度下界为$\\Omega(nlogn)$"
   ]
  },
  {
   "cell_type": "markdown",
   "metadata": {},
   "source": [
    "you can refer a handwritten picture, pleas upload the picture in /fig/xxx.png\n",
    "answer：\n",
    "![figure](./fig/hw3q1answer.png)"
   ]
  },
  {
   "cell_type": "markdown",
   "metadata": {},
   "source": [
    "## 问题 2 \n",
    "\n",
    "构建二叉搜索树\n",
    "\n",
    "> 1. 给定一个数组 [48, 33, 49, 47, 42, 46, 32], 构建一个二叉搜索树存储这些数据，请**绘制**所构建的**二叉搜索树**（标明结点的值）。\n",
    "> 2. 从第1问的二叉搜索树中删除33，请**绘制**删除33后的**二叉搜索树**（标明结点的值）\n",
    "\n",
    "- 推荐使用graphviz包绘制树的结构"
   ]
  },
  {
   "cell_type": "markdown",
   "metadata": {},
   "source": [
    "you can refer a handwritten picture, pleas upload the picture in /fig/xxx.png\n",
    "answer：\n",
    "> 1. ![figure](./fig/hw3q2.1answer.png)\n",
    "\n",
    "> 2. ![figure](./fig/hw3q2.2answer.png)"
   ]
  },
  {
   "cell_type": "markdown",
   "metadata": {},
   "source": [
    "## 问题 3 \n",
    "\n",
    "> 下面是九门课程的开始和结束时间:\n",
    ">\n",
    "> [(9:00,12:30), (11:00,14:00), (13:00, 14:30), (9:00,10:30),(13:00, 14:30),(14:00,16:30), (15:00,16:30), (15:00,16:30), (9:00,10:30)]\n",
    ">\n",
    "> 请使用贪婪算法为这九门课分配教室，要求在同一天内安排这些课，并且每个教室同一时间只能安排一门课。\n",
    "\n",
    "**请问最少需要几间教室，罗列出每个教室安排的课程**"
   ]
  },
  {
   "cell_type": "markdown",
   "metadata": {},
   "source": [
    "idea：来源于Chat GPT\n",
    "思路如下：\n",
    "按课程开始时间排序。\n",
    "使用一个最小堆（或模拟）记录每个教室的课程结束时间。\n",
    "对每一门课：\n",
    "若有教室空闲（即堆顶的课程结束时间 ≤ 当前课程开始时间），则复用教室；\n",
    "否则，开设新教室。"
   ]
  },
  {
   "cell_type": "code",
   "metadata": {
    "vscode": {
     "languageId": "plaintext"
    },
    "ExecuteTime": {
     "end_time": "2025-05-12T07:36:12.457410Z",
     "start_time": "2025-05-12T07:36:12.418180Z"
    }
   },
   "source": [
    "# code：\n",
    "courses = [\n",
    "    (9.0, 12.5),\n",
    "    (11.0, 14.0),\n",
    "    (13.0, 14.5),\n",
    "    (9.0, 10.5),\n",
    "    (13.0, 14.5),\n",
    "    (14.0, 16.5),\n",
    "    (15.0, 16.5),\n",
    "    (15.0, 16.5),\n",
    "    (9.0, 10.5)\n",
    "]\n",
    "\n",
    "def time_str(t):\n",
    "    hour = int(t)\n",
    "    minute = int(round((t - hour) * 60))\n",
    "    return f\"{hour}:{minute:02d}\"\n",
    "\n",
    "# 按开始时间排序，并带上编号\n",
    "sorted_courses = sorted(enumerate(courses), key=lambda x: x[1][0])\n",
    "\n",
    "# 每个教室：room_id -> list of (idx, (start, end))\n",
    "room_schedule = []\n",
    "\n",
    "for idx, (start, end) in sorted_courses:\n",
    "    # 尝试分配到已有教室\n",
    "    assigned = False\n",
    "    for schedule in room_schedule:\n",
    "        last_course_end = schedule[-1][1][1]\n",
    "        if last_course_end <= start:\n",
    "            schedule.append((idx, (start, end)))\n",
    "            assigned = True\n",
    "            break\n",
    "    if not assigned:\n",
    "        # 新建一个教室\n",
    "        room_schedule.append([(idx, (start, end))])\n",
    "\n",
    "# 输出\n",
    "print(f\"最少需要教室数：{len(room_schedule)}\\n\")\n",
    "for i, room in enumerate(room_schedule):\n",
    "    print(f\"教室 {i}:\")\n",
    "    for idx, (start, end) in room:\n",
    "        print(f\"  - 课程 {idx}: {time_str(start)} ~ {time_str(end)}\")\n",
    "    print()\n",
    "\n"
   ],
   "outputs": [
    {
     "name": "stdout",
     "output_type": "stream",
     "text": [
      "最少需要教室数：3\n",
      "\n",
      "教室 0:\n",
      "  - 课程 0: 9:00 ~ 12:30\n",
      "  - 课程 2: 13:00 ~ 14:30\n",
      "  - 课程 6: 15:00 ~ 16:30\n",
      "\n",
      "教室 1:\n",
      "  - 课程 3: 9:00 ~ 10:30\n",
      "  - 课程 1: 11:00 ~ 14:00\n",
      "  - 课程 5: 14:00 ~ 16:30\n",
      "\n",
      "教室 2:\n",
      "  - 课程 8: 9:00 ~ 10:30\n",
      "  - 课程 4: 13:00 ~ 14:30\n",
      "  - 课程 7: 15:00 ~ 16:30\n",
      "\n"
     ]
    }
   ],
   "execution_count": 1
  },
  {
   "cell_type": "markdown",
   "metadata": {},
   "source": [
    "## 问题 4 \n",
    "\n",
    "> 爬楼梯问题：假设爬楼梯时你每次只能爬一阶或者爬两阶，问爬上n阶的楼梯，你一共有多少种方法\n",
    "\n",
    "请设计算法完成该问题，分析算法设计思路，计算时间复杂度，并基于python编程实现"
   ]
  },
  {
   "cell_type": "markdown",
   "metadata": {},
   "source": [
    "idea：\n",
    "爬到第 n 阶，可以从第 n-1 阶爬 1 阶上来，也可以从第 n-2 阶爬 2 阶上来。\n",
    "状态定义：\n",
    "f(n) 表示到达第 n 阶的方法数。\n",
    "状态转移方程：\n",
    "f(n) = f(n-1) + f(n-2)\n",
    "从第 n-1 阶爬一阶上来 + 从第 n-2 阶爬两阶上来。\n",
    "初始条件：\n",
    "f(0) = 1 （在第0阶，不动算一种）\n",
    "f(1) = 1 （一阶只有一种走法）\n",
    "实现方法：\n",
    "用 动态规划（DP数组 or 滚动变量优化）。"
   ]
  },
  {
   "cell_type": "code",
   "metadata": {},
   "source": [
    "# add your code here\n",
    "def climb_stairs(n):\n",
    "    if n == 0 or n == 1:\n",
    "        return 1\n",
    "\n",
    "    dp = [0] * (n + 1)\n",
    "    dp[0] = dp[1] = 1\n",
    "\n",
    "    for i in range(2, n + 1):\n",
    "        dp[i] = dp[i - 1] + dp[i - 2]\n",
    "\n",
    "    return dp[n]\n",
    "\n",
    "# 示例\n",
    "n = 10\n",
    "print(f\"爬 {n} 阶楼梯共有 {climb_stairs(n)} 种方法\")\n",
    "\n",
    "# your algorithm time complexity is: O(n)"
   ],
   "outputs": [],
   "execution_count": null
  },
  {
   "cell_type": "markdown",
   "metadata": {},
   "source": [
    "## 问题 5 \n",
    "\n",
    "> 0-1背包问题：现在有4块大理石，每个大理石对应的重量和价值使用一个元组表示, 即（重量，价值），4块大理石的重量和价值为：[(5,10), (4,40), (6,30), (3, 50)], 假设你有一辆最大承重为9的小推车，请问使用这个小推车装大理石的最大价值为多少\n",
    "\n",
    "请设计一个算法解决该问题，分析算法设计思路，计算时间复杂度，并基于python编程实现"
   ]
  },
  {
   "cell_type": "markdown",
   "metadata": {},
   "source": [
    "idea：\n",
    "定义状态：\n",
    "dp[w] 表示在容量为 w 时，能获得的最大总价值。\n",
    "状态转移：\n",
    "遍历每个物品 (weight, value)，对于每个容量 w 从大到小更新：\n",
    "dp[w] = max(dp[w], dp[w - weight] + value)\n",
    "不选当前物品：dp[w] 保持不变\n",
    "选当前物品：增加价值 value，容量减少 weight\n",
    "初始条件：\n",
    "dp[0] = 0，其他容量初始也是 0（因为没有物品）\n",
    "最终答案：\n",
    "dp[capacity]"
   ]
  },
  {
   "cell_type": "code",
   "metadata": {},
   "source": [
    "# add your code here\n",
    "def knapsack(items, capacity):\n",
    "    n = len(items)\n",
    "    dp = [[0] * (capacity + 1) for _ in range(n + 1)]\n",
    "\n",
    "    for i in range(1, n + 1):\n",
    "        weight, value = items[i - 1]\n",
    "        for w in range(capacity + 1):\n",
    "            if w < weight:\n",
    "                dp[i][w] = dp[i - 1][w]\n",
    "            else:\n",
    "                dp[i][w] = max(dp[i - 1][w], dp[i - 1][w - weight] + value)\n",
    "\n",
    "    return dp[n][capacity]\n",
    "\n",
    "# 示例数据\n",
    "items = [(5, 10), (4, 40), (6, 30), (3, 50)]\n",
    "capacity = 9\n",
    "\n",
    "print(f\"最大价值为：{knapsack(items, capacity)}\")\n",
    "\n",
    "# your algorithm time complexity is:O(nW)"
   ],
   "outputs": [],
   "execution_count": null
  },
  {
   "cell_type": "markdown",
   "metadata": {},
   "source": [
    "## 问题 6 \n",
    "给定 `n` 个非负整数表示每个宽度为 `1` 的柱子的高度图，计算按此排列的柱子，下雨之后能接多少雨水。\n",
    "\n",
    "\n",
    "\n",
    "<div style=\"text-align:center;width:800px;\"> <img alt=\"\" src=\"./fig/hw3q6.png\"> </div>\n",
    "\n",
    "请分析算法设计思路，计算时间复杂度，并基于python编程实现"
   ]
  },
  {
   "cell_type": "markdown",
   "metadata": {},
   "source": [
    "idea：\n",
    "为了计算每一列能接多少雨水，可以分步骤：\n",
    "对于每个柱子，找到它左边的最高柱子和右边的最高柱子。\n",
    "取左边最大值和右边最大值中的较小值，减去当前柱子的高度，就是能接的水量。"
   ]
  },
  {
   "cell_type": "code",
   "metadata": {},
   "source": [
    "# add your code here\n",
    "def trap(height):\n",
    "    if not height:\n",
    "        return 0\n",
    "\n",
    "    n = len(height)\n",
    "    max_left = [0] * n\n",
    "    max_right = [0] * n\n",
    "\n",
    "    # 预处理左边最大值\n",
    "    max_left[0] = height[0]\n",
    "    for i in range(1, n):\n",
    "        max_left[i] = max(max_left[i - 1], height[i])\n",
    "\n",
    "    # 预处理右边最大值\n",
    "    max_right[-1] = height[-1]\n",
    "    for i in range(n - 2, -1, -1):\n",
    "        max_right[i] = max(max_right[i + 1], height[i])\n",
    "\n",
    "    # 计算总接水量\n",
    "    water = 0\n",
    "    for i in range(n):\n",
    "        water += max(0, min(max_left[i], max_right[i]) - height[i])\n",
    "\n",
    "    return water\n",
    "\n",
    "# 测试样例\n",
    "print(trap([0,1,0,2,1,0,1,3,2,1,2,1]))  # 输出 6\n",
    "print(trap([4,2,0,3,2,5]))              # 输出 9\n",
    "\n",
    "# your algorithm time complexity is:O(n)"
   ],
   "outputs": [],
   "execution_count": null
  },
  {
   "cell_type": "markdown",
   "metadata": {},
   "source": [
    "## 问题 7 \n",
    "\n",
    "**股票投资组合优化**： 假设你是一位投资者，想要在不同的股票中分配你的资金，以最大化你的投资回报。每只股票都有不同的预期收益率和风险。你的目标是选择一些股票，使得总投资金额不超过你的预算，并且预期收益最大化。\n",
    "\n",
    "在这个情况下，你可以将每只股票视为一个“物品”，其重量为投资金额，价值为预期收益率。然后，你可以使用分级背包问题的方法来选择部分股票，以便在预算内获得最大的预期收益。\n",
    "\n",
    "以下是一个简化的例子：\n",
    "\n",
    "假设你有以下三只股票可供选择：\n",
    "\n",
    "1. 股票 A：投资金额 5000 美元，预期收益率 10%\n",
    "2. 股票 B：投资金额 3000 美元，预期收益率 8%\n",
    "3. 股票 C：投资金额 2000 美元，预期收益率 12%\n",
    "\n",
    "请设计算法找到最优投资方案，分析算法设计思路，计算时间复杂度，并基于python编程实现"
   ]
  },
  {
   "cell_type": "markdown",
   "metadata": {},
   "source": [
    "idea：来源于Chat GPT\n",
    "定义股票项：\n",
    "投资金额 → 重量\n",
    "预期收益率 → 单位重量价值（每投入1美元的回报）\n",
    "问题转化：\n",
    "在预算（背包容量）内选择部分或全部股票，使得总收益最大化。\n",
    "算法步骤：\n",
    "计算每只股票的单位收益（收益率 / 投资金额，其实这里直接用收益率就行，因为单位是1美元）。\n",
    "按单位收益 从高到低排序。\n",
    "依次选股票，能选就全选，选不下了就按比例选一部分。\n",
    "累加总收益。"
   ]
  },
  {
   "cell_type": "code",
   "metadata": {},
   "source": [
    "# add your code here\n",
    "def fractional_knapsack(stocks, budget):\n",
    "    # 按单位收益率（收益/投资）排序，注意这里直接按收益率就可以\n",
    "    stocks.sort(key=lambda x: x[1], reverse=True)\n",
    "\n",
    "    total_profit = 0\n",
    "    investment_plan = []\n",
    "\n",
    "    for cost, profit_rate in stocks:\n",
    "        if budget >= cost:\n",
    "            # 可以全部投资\n",
    "            budget -= cost\n",
    "            total_profit += cost * profit_rate / 100\n",
    "            investment_plan.append((cost, 1.0))  # 1.0 表示全部投资\n",
    "        else:\n",
    "            # 只能投资部分\n",
    "            total_profit += budget * profit_rate / 100\n",
    "            investment_plan.append((cost, budget / cost))  # 投资了多少比例\n",
    "            budget = 0\n",
    "            break\n",
    "\n",
    "    return total_profit, investment_plan\n",
    "\n",
    "# 示例数据\n",
    "stocks = [\n",
    "    (5000, 10),  # 股票A\n",
    "    (3000, 8),   # 股票B\n",
    "    (2000, 12)   # 股票C\n",
    "]\n",
    "\n",
    "budget = 7000  # 你的总预算\n",
    "\n",
    "# 调用算法\n",
    "profit, plan = fractional_knapsack(stocks, budget)\n",
    "\n",
    "print(f\"最大预期收益：{profit:.2f} 美元\")\n",
    "print(\"投资方案：\")\n",
    "for cost, fraction in plan:\n",
    "    print(f\"  - 投资金额 {cost} 美元的 {fraction*100:.2f}%\")\n",
    "\n",
    "# your algorithm time complexity is:O(n log n)"
   ],
   "outputs": [],
   "execution_count": null
  },
  {
   "cell_type": "markdown",
   "metadata": {},
   "source": [
    "## 问题 8\n",
    "\n",
    "给你二叉搜索树的根节点 root ，该树中的恰好两个节点的值被错误地交换。请在不改变其结构的情况下，恢复这棵树 。设计算法解决该问题，分析算法设计思路，计算时间复杂度，并基于python编程实现\n",
    "\n",
    "e.g.:\n",
    "---\n",
    "1.\n",
    "\n",
    "<div style=\"text-align:center;width:200px;\"> <img alt=\"\" src=\"./fig/hw3q9-1.jpg\"> </div>\n",
    "输入：root = [1,3,null,null,2]， 输出为：[3,1,null,null,2]， \n",
    "\n",
    "解释：3 不能是 1 的左孩子，因为 3 > 1 。交换 1 和 3 使二叉搜索树有效。\n",
    "\n",
    "2.\n",
    "\n",
    " <div style=\"text-align:center;width:200px;\"> <img alt=\"\" src=\"./fig/hw3q9-1.jpg\"> </div>\n",
    "输入： root=[3,1,4,null,null,2]， 输出为：[2,1,4,null,null,3]\n",
    "\n",
    "解释：2 不能在 3 的右子树中，因为 2 < 3 。交换 2 和 3 使二叉搜索树有效。"
   ]
  },
  {
   "cell_type": "markdown",
   "metadata": {},
   "source": [
    "idea：\n",
    "中序遍历这棵树，同时记录上一个访问的节点 prev。\n",
    "在遍历过程中，如果发现 prev.val > current.val，就说明出现了逆序，应该记录下来。\n",
    "第一次逆序：把 prev 记为第一个错误节点 x，current 记为第二个错误节点 y。\n",
    "后续如果还有逆序，再更新 y。\n",
    "遍历完成后，交换 x.val 和 y.val，修复二叉搜索树。\n"
   ]
  },
  {
   "cell_type": "code",
   "metadata": {
    "ExecuteTime": {
     "end_time": "2025-04-28T05:19:23.124451Z",
     "start_time": "2025-04-28T05:19:23.113447Z"
    }
   },
   "source": [
    "# add your code here\n",
    "from collections import deque\n",
    "\n",
    "# 树节点定义\n",
    "class TreeNode:\n",
    "    def __init__(self, val=0, left=None, right=None):\n",
    "        self.val = val\n",
    "        self.left = left\n",
    "        self.right = right\n",
    "\n",
    "class Solution:\n",
    "    def recoverTree(self, root):\n",
    "        # 记录错误节点\n",
    "        self.x = self.y = self.prev = None\n",
    "\n",
    "        def inorder(node):\n",
    "            if not node:\n",
    "                return\n",
    "            inorder(node.left)\n",
    "\n",
    "            if self.prev and self.prev.val > node.val:\n",
    "                if not self.x:\n",
    "                    self.x = self.prev\n",
    "                self.y = node\n",
    "            self.prev = node\n",
    "\n",
    "            inorder(node.right)\n",
    "\n",
    "        inorder(root)\n",
    "        \n",
    "        # 交换两个节点的值\n",
    "        self.x.val, self.y.val = self.y.val, self.x.val\n",
    "\n",
    "# 把树输出为数组\n",
    "def tree_to_list(root):\n",
    "    if not root:\n",
    "        return []\n",
    "    \n",
    "    res = []\n",
    "    queue = deque([root])\n",
    "\n",
    "    while queue:\n",
    "        node = queue.popleft()\n",
    "        if node:\n",
    "            res.append(node.val)\n",
    "            queue.append(node.left)\n",
    "            queue.append(node.right)\n",
    "        else:\n",
    "            res.append(None)\n",
    "\n",
    "    # 去掉末尾的多余 None\n",
    "    while res and res[-1] is None:\n",
    "        res.pop()\n",
    "\n",
    "    return res\n",
    "\n",
    "# 测试\n",
    "# 示例：输入 root = [1,3,null,null,2]\n",
    "root = TreeNode(1)\n",
    "root.left = TreeNode(3)\n",
    "root.left.right = TreeNode(2)\n",
    "\n",
    "sol = Solution()\n",
    "sol.recoverTree(root)\n",
    "\n",
    "# 输出\n",
    "print(tree_to_list(root))  # 应该输出 [3,1,null,null,2]\n",
    "\n",
    "\n",
    "# your algorithm time complexity is: O(n)"
   ],
   "outputs": [
    {
     "name": "stdout",
     "output_type": "stream",
     "text": [
      "[3, 1, None, None, 2]\n"
     ]
    }
   ],
   "execution_count": 3
  },
  {
   "cell_type": "markdown",
   "metadata": {},
   "source": [
    "## 问题 9  \n",
    "\n",
    "给你一个二叉树的根节点 root ，树中每个节点都存放有一个 0 到 9 之间的数字。每条从根节点到叶节点的路径都代表一个数字：\n",
    "\n",
    "> 例如，从根节点到叶节点的路径 1 -> 2 -> 3 表示数字 123 。\n",
    "\n",
    "设计一个算法计算从根节点到叶节点生成的所有数字之和 ，分析算法设计思路，计算时间复杂度，并基于python编程实现\n",
    "\n",
    "叶节点:是指没有子节点的节点。\n",
    "\n",
    "e.g.:\n",
    "---\n",
    "1.\n",
    "\n",
    " <div style=\"text-align:center;width:200px;\"> <img alt=\"figure\" src=\"./fig/hw3q10-1.jpg\"> </div>\n",
    "\n",
    " 输入：root = [1,2,3], 输出：25\n",
    "\n",
    "解释：从根到叶子节点路径 1->2 代表数字 12，1->3 代表数字 13，因此和为 12 + 13 = 25 。\n",
    "\n",
    "2.\n",
    "\n",
    " <div style=\"text-align:center;width:200px;\"> <img alt=\"figure\" src=\"./fig/hw3q10-2.jpg\"> </div>\n",
    "\n",
    " 输入：root = [4,9,0,5,1], 输出：1026\n",
    "\n",
    "解释：从根到叶子节点路径 4->9->5 代表数字 495，4->9->1 代表数字 491，4->0 代表数字 40。因此和为 495 + 491 + 40 = 1026 。"
   ]
  },
  {
   "cell_type": "markdown",
   "metadata": {},
   "source": [
    "idea：\n",
    "方法：深度优先搜索 (DFS)\n",
    "递归遍历：从根节点开始，递归地访问每个节点。\n",
    "路径构建：在遍历过程中，维护当前路径表示的数字（可以表示为 current_sum = previous_sum * 10 + node.val）。\n",
    "叶节点检查：当遇到叶节点（没有左右子节点）时，将当前路径数字加到总和中。\n",
    "回溯：处理完一个节点后，回溯到其父节点，继续探索其他路径。"
   ]
  },
  {
   "cell_type": "code",
   "metadata": {
    "ExecuteTime": {
     "end_time": "2025-04-28T05:23:57.720462Z",
     "start_time": "2025-04-28T05:23:57.711102Z"
    }
   },
   "source": [
    "# add your code here\n",
    "class TreeNode:\n",
    "    def __init__(self, val=0, left=None, right=None):\n",
    "        self.val = val\n",
    "        self.left = left\n",
    "        self.right = right\n",
    "\n",
    "def sumNumbers(root):\n",
    "    def dfs(node, current_sum):\n",
    "        if not node:\n",
    "            return 0\n",
    "        \n",
    "        current_sum = current_sum * 10 + node.val\n",
    "        \n",
    "        # 如果是叶节点，返回当前路径和\n",
    "        if not node.left and not node.right:\n",
    "            return current_sum\n",
    "        \n",
    "        # 递归处理左右子树\n",
    "        return dfs(node.left, current_sum) + dfs(node.right, current_sum)\n",
    "    \n",
    "    return dfs(root, 0)\n",
    "\n",
    "# 测试用例1\n",
    "root1 = TreeNode(1)\n",
    "root1.left = TreeNode(2)\n",
    "root1.right = TreeNode(3)\n",
    "print(sumNumbers(root1))  # 输出: 25\n",
    "\n",
    "# 测试用例2\n",
    "root2 = TreeNode(4)\n",
    "root2.left = TreeNode(9)\n",
    "root2.right = TreeNode(0)\n",
    "root2.left.left = TreeNode(5)\n",
    "root2.left.right = TreeNode(1)\n",
    "print(sumNumbers(root2))  # 输出: 1026\n",
    "# your algorithm time complexity is: O(n)"
   ],
   "outputs": [
    {
     "name": "stdout",
     "output_type": "stream",
     "text": [
      "25\n",
      "1026\n"
     ]
    }
   ],
   "execution_count": 4
  },
  {
   "cell_type": "markdown",
   "metadata": {},
   "source": [
    "## 问题 10  \n",
    "\n",
    "给你一个二叉树的根节点 root ， 检查它是否轴对称。\n",
    "\n",
    "1. 分析算法设计思路，计算时间复杂度，并基于python编程实现\n",
    "2. \\* 设计使用递归和迭代两种方法解决这个问题，计算时间复杂度，并基于python编程实现\n",
    "\n",
    "e.g.:\n",
    "---\n",
    "1.\n",
    "\n",
    " <div style=\"text-align:center;width:200px;\"> <img alt=\"figure\" src=\"./fig/hw3q11-1.png\"> </div>\n",
    "\n",
    " 输入：root = [1,2,2,3,4,4,3]， 输出：true\n",
    "\n",
    "解释：二叉树 [1,2,2,3,4,4,3] 对称。\n",
    "\n",
    "2.\n",
    "\n",
    " <div style=\"text-align:center;width:200px;\"> <img alt=\"figure\" src=\"./fig/hw3q11-2.png\"> </div>\n",
    "\n",
    " 输入：root = [1,2,2,null,3,null,3]， 输出：false"
   ]
  },
  {
   "cell_type": "markdown",
   "metadata": {},
   "source": [
    "idea:\n",
    "递归法\n",
    "基本思想：比较左右子树是否对称\n",
    "递归条件：\n",
    "两个节点都为空 → 对称\n",
    "一个为空一个不为空 → 不对称\n",
    "节点值不相等 → 不对称\n",
    "递归比较左子树的左节点与右子树的右节点，以及左子树的右节点与右子树的左节点"
   ]
  },
  {
   "cell_type": "code",
   "metadata": {
    "ExecuteTime": {
     "end_time": "2025-04-28T05:33:40.571349Z",
     "start_time": "2025-04-28T05:33:40.561114Z"
    }
   },
   "source": [
    "# add your code here\n",
    "class TreeNode:\n",
    "    def __init__(self, val=0, left=None, right=None):\n",
    "        self.val = val\n",
    "        self.left = left\n",
    "        self.right = right\n",
    "\n",
    "def isSymmetric(root):\n",
    "    def isMirror(left, right):\n",
    "        if not left and not right:\n",
    "            return True\n",
    "        if not left or not right:\n",
    "            return False\n",
    "        return (left.val == right.val) and isMirror(left.left, right.right) and isMirror(left.right, right.left)\n",
    "    \n",
    "    if not root:\n",
    "        return True\n",
    "    return isMirror(root.left, root.right)\n",
    "\n",
    "# 测试用例1\n",
    "root1 = TreeNode(1)\n",
    "root1.left = TreeNode(2)\n",
    "root1.right = TreeNode(2)\n",
    "root1.left.left = TreeNode(3)\n",
    "root1.left.right = TreeNode(4)\n",
    "root1.right.left = TreeNode(4)\n",
    "root1.right.right = TreeNode(3)\n",
    "print(isSymmetric(root1))  # 输出: True\n",
    "\n",
    "# 测试用例2\n",
    "root2 = TreeNode(1)\n",
    "root2.left = TreeNode(2)\n",
    "root2.right = TreeNode(2)\n",
    "root2.left.right = TreeNode(3)\n",
    "root2.right.right = TreeNode(3)\n",
    "print(isSymmetric(root2))  # 输出: False\n",
    "# your algorithm time complexity is:O(n)"
   ],
   "outputs": [
    {
     "name": "stdout",
     "output_type": "stream",
     "text": [
      "True\n",
      "False\n"
     ]
    }
   ],
   "execution_count": 5
  },
  {
   "cell_type": "markdown",
   "metadata": {},
   "source": [
    "## 问题 11  \n",
    "\n",
    "给你一个由 '1'（陆地）和 '0'（水）组成的的二维网格，请你计算网格中岛屿的数量。岛屿总是被水包围，并且每座岛屿只能由水平方向和/或竖直方向上相邻的陆地连接形成。\n",
    "\n",
    "此外，你可以假设该网格的四条边均被水包围。\n",
    "\n",
    "分析算法设计思路，计算时间复杂度，并基于python编程实现\n",
    "\n",
    "e.g.:\n",
    "---\n",
    "1.\n",
    "输入：grid = [\n",
    "\n",
    "    [\"1\",\"1\",\"1\",\"1\",\"0\"],\n",
    "\n",
    "    [\"1\",\"1\",\"0\",\"1\",\"0\"], \n",
    "\n",
    "    [\"1\",\"1\",\"0\",\"0\",\"0\"], \n",
    "\n",
    "    [\"0\",\"0\",\"0\",\"0\",\"0\"]  \n",
    "\n",
    "]\n",
    "\n",
    "输出：1\n",
    "\n",
    "2.\n",
    "输入：grid = [\n",
    "\n",
    "    [\"1\",\"1\",\"0\",\"0\",\"0\"],\n",
    "\n",
    "    [\"1\",\"1\",\"0\",\"0\",\"0\"],\n",
    "\n",
    "    [\"0\",\"0\",\"1\",\"0\",\"0\"],\n",
    "\n",
    "    [\"0\",\"0\",\"0\",\"1\",\"1\"]\n",
    "\n",
    "]\n",
    "\n",
    "输出：3"
   ]
  },
  {
   "cell_type": "markdown",
   "metadata": {},
   "source": [
    "idea:\n",
    "把这个二维网格看成是图，每个 '1' 是陆地，'0' 是水。\n",
    "从每个未被访问的 '1' 出发，使用 DFS/BFS 将整个岛屿标记为“已访问”。\n",
    "每次启动一次 DFS，就代表找到了一个新岛屿。"
   ]
  },
  {
   "cell_type": "code",
   "metadata": {
    "ExecuteTime": {
     "end_time": "2025-05-12T07:38:16.551848Z",
     "start_time": "2025-05-12T07:38:16.535367Z"
    }
   },
   "source": [
    "# add your code here\n",
    "def num_islands(grid):\n",
    "    if not grid or not grid[0]:\n",
    "        return 0\n",
    "\n",
    "    rows, cols = len(grid), len(grid[0])\n",
    "    count = 0\n",
    "\n",
    "    def dfs(r, c):\n",
    "        if r < 0 or r >= rows or c < 0 or c >= cols or grid[r][c] != '1':\n",
    "            return\n",
    "        grid[r][c] = '0'  # 标记为已访问\n",
    "        # 向四个方向扩展\n",
    "        dfs(r - 1, c)  # 上\n",
    "        dfs(r + 1, c)  # 下\n",
    "        dfs(r, c - 1)  # 左\n",
    "        dfs(r, c + 1)  # 右\n",
    "\n",
    "    for i in range(rows):\n",
    "        for j in range(cols):\n",
    "            if grid[i][j] == '1':\n",
    "                dfs(i, j)\n",
    "                count += 1\n",
    "\n",
    "    return count\n",
    "\n",
    "grid1 = [\n",
    "    [\"1\",\"1\",\"1\",\"1\",\"0\"],\n",
    "    [\"1\",\"1\",\"0\",\"1\",\"0\"],\n",
    "    [\"1\",\"1\",\"0\",\"0\",\"0\"],\n",
    "    [\"0\",\"0\",\"0\",\"0\",\"0\"]\n",
    "]\n",
    "print(num_islands(grid1))  # 输出：1\n",
    "\n",
    "grid2 = [\n",
    "    [\"1\",\"1\",\"0\",\"0\",\"0\"],\n",
    "    [\"1\",\"1\",\"0\",\"0\",\"0\"],\n",
    "    [\"0\",\"0\",\"1\",\"0\",\"0\"],\n",
    "    [\"0\",\"0\",\"0\",\"1\",\"1\"]\n",
    "]\n",
    "print(num_islands(grid2))  # 输出：3\n",
    "\n",
    "# your algorithm time complexity is:O(m × n)"
   ],
   "outputs": [
    {
     "name": "stdout",
     "output_type": "stream",
     "text": [
      "1\n",
      "3\n"
     ]
    }
   ],
   "execution_count": 2
  },
  {
   "metadata": {},
   "cell_type": "code",
   "outputs": [],
   "execution_count": null,
   "source": ""
  }
 ],
 "metadata": {
  "language_info": {
   "name": "python"
  },
  "kernelspec": {
   "name": "python3",
   "language": "python",
   "display_name": "Python 3 (ipykernel)"
  }
 },
 "nbformat": 4,
 "nbformat_minor": 2
}
